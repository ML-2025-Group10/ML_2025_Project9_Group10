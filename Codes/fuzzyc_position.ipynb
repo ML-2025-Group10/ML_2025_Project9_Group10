{
 "cells": [
  {
   "cell_type": "code",
   "execution_count": 1,
   "id": "05b9bc98",
   "metadata": {},
   "outputs": [
    {
     "name": "stdout",
     "output_type": "stream",
     "text": [
      "Updated dataset saved successfully with FG% and 3P%!\n"
     ]
    }
   ],
   "source": [
    "import pandas as pd\n",
    "\n",
    "# Load the dataset\n",
    "df = pd.read_excel(\"ncaa_data.xlsx\")\n",
    "\n",
    "# Avoid division by zero\n",
    "# Compute Field Goal Percentage (FG%) and Three-Point Percentage (3P%)\n",
    "df[\"FG%\"] = df[\"FGM\"] / df[\"FGA\"].replace(0, 1)  # Replace 0 in FGA to avoid errors\n",
    "df[\"3P%\"] = df[\"PM\"] / df[\"PA\"].replace(0, 1)  # Replace 0 in PA to avoid errors\n",
    "\n",
    "# Save the updated dataset\n",
    "updated_file_path = r\"ncaa_newvalues.xlsx\"\n",
    "df.to_excel(updated_file_path, index=False)\n",
    "\n",
    "print(\"Updated dataset saved successfully with FG% and 3P%!\")"
   ]
  },
  {
   "cell_type": "code",
   "execution_count": 3,
   "id": "76aa1e74",
   "metadata": {},
   "outputs": [
    {
     "name": "stdout",
     "output_type": "stream",
     "text": [
      "Cluster Centroids:\n",
      "        FG%       PTS       3P%       AST       REB       STL       BLK\n",
      "0  0.532538  0.314470  0.468623  0.130528  0.198564  0.109953  0.049281\n",
      "1  0.509965  0.240216  0.061829  0.095926  0.270987  0.094048  0.093434\n",
      "2  0.364442  0.134252  0.036721  0.068698  0.159920  0.059071  0.031017\n",
      "3  0.412057  0.236466  0.229091  0.119326  0.199400  0.096352  0.046038\n",
      "4  0.020296  0.013808  0.005196  0.017727  0.046870  0.013224  0.007545\n"
     ]
    }
   ],
   "source": [
    "import numpy as np\n",
    "import pandas as pd\n",
    "import skfuzzy as fuzz\n",
    "import matplotlib.pyplot as plt\n",
    "\n",
    "# Load the updated dataset\n",
    "file_path = \"ncaa_newvalues.xlsx\"\n",
    "df = pd.read_excel(file_path)\n",
    "\n",
    "# Select relevant columns (including player names)\n",
    "selected_features = [\"Athlete\", \"Team Display Name\", \"FG%\", \"PTS\", \"3P%\", \"AST\", \"REB\", \"STL\", \"BLK\"]\n",
    "df_selected = df[selected_features]\n",
    "\n",
    "# Aggregate by player name and take the median to remove duplicates\n",
    "# Exclude non-numeric columns before applying median\n",
    "numeric_columns = df_selected.select_dtypes(include=[np.number]).columns\n",
    "player_stats = df_selected.groupby(\"Athlete\")[numeric_columns].median().reset_index()\n",
    "\n",
    "# Normalize the data (scale between 0 and 1 for clustering)\n",
    "numeric_features = [\"FG%\", \"PTS\", \"3P%\", \"AST\", \"REB\", \"STL\", \"BLK\"]\n",
    "player_stats_normalized = (player_stats[numeric_features] - player_stats[numeric_features].min()) / (player_stats[numeric_features].max() - player_stats[numeric_features].min())\n",
    "\n",
    "# Convert to numpy array for Fuzzy C-Means clustering\n",
    "data = player_stats_normalized.values.T  # Fuzzy C-Means requires transpose\n",
    "\n",
    "# Number of clusters (5 positions: PG, SG, SF, PF, C)\n",
    "num_clusters = 5\n",
    "\n",
    "# Apply Fuzzy C-Means clustering\n",
    "cntr, u, _, _, _, _, _ = fuzz.cluster.cmeans(\n",
    "    data, num_clusters, m=2, error=0.005, maxiter=1000, init=None\n",
    ")\n",
    "\n",
    "# Print cluster centroids for manual inspection\n",
    "centroids_df = pd.DataFrame(cntr, columns=numeric_features)\n",
    "print(\"Cluster Centroids:\")\n",
    "print(centroids_df)"
   ]
  },
  {
   "cell_type": "code",
   "execution_count": 6,
   "id": "37cbe044",
   "metadata": {},
   "outputs": [
    {
     "name": "stdout",
     "output_type": "stream",
     "text": [
      "Fuzzy C-Means clustering completed! Updated dataset saved with soft position memberships.\n"
     ]
    }
   ],
   "source": [
    "import numpy as np\n",
    "import pandas as pd\n",
    "import skfuzzy as fuzz\n",
    "import matplotlib.pyplot as plt\n",
    "\n",
    "# Load the updated dataset\n",
    "file_path = \"ncaa_newvalues.xlsx\"\n",
    "df = pd.read_excel(file_path)\n",
    "\n",
    "# Select relevant columns (including player names)\n",
    "selected_features = [\"Athlete\", \"Team Display Name\", \"FG%\", \"PTS\", \"3P%\", \"AST\", \"REB\", \"STL\", \"BLK\"]\n",
    "df_selected = df[selected_features]\n",
    "\n",
    "# Aggregate by player name and take the median to remove duplicates\n",
    "# Exclude non-numeric columns before applying median\n",
    "numeric_columns = df_selected.select_dtypes(include=[np.number]).columns\n",
    "player_stats = df_selected.groupby(\"Athlete\")[numeric_columns].median().reset_index()\n",
    "\n",
    "# Normalize the data (scale between 0 and 1 for clustering)\n",
    "numeric_features = [\"FG%\", \"PTS\", \"3P%\", \"AST\", \"REB\", \"STL\", \"BLK\"]\n",
    "player_stats_normalized = (player_stats[numeric_features] - player_stats[numeric_features].min()) / (player_stats[numeric_features].max() - player_stats[numeric_features].min())\n",
    "\n",
    "# Convert to numpy array for Fuzzy C-Means clustering\n",
    "data = player_stats_normalized.values.T  # Fuzzy C-Means requires transpose\n",
    "\n",
    "# Number of clusters (5 positions: PG, SG, SF, PF, C)\n",
    "num_clusters = 5\n",
    "\n",
    "# Apply Fuzzy C-Means clustering\n",
    "cntr, u, _, _, _, _, _ = fuzz.cluster.cmeans(\n",
    "    data, num_clusters, m=2, error=0.005, maxiter=1000, init=None\n",
    ")\n",
    "\n",
    "# Position weight matrix based on cluster analysis\n",
    "position_weights = np.array([\n",
    "    [0.1, 0.5, 0.4, 0.0, 0.0],  # Cluster 0 (SG/SF)\n",
    "    [0.0, 0.0, 0.2, 0.5, 0.3],  # Cluster 1 (PF/C)\n",
    "    [0.2, 0.3, 0.4, 0.1, 0.0],  # Cluster 2 (SF/SG)\n",
    "    [0.0, 0.0, 0.0, 0.0, 0.0],  # Cluster 3 (Outliers)\n",
    "    [0.6, 0.1, 0.2, 0.1, 0.0],  # Cluster 4 (PG)\n",
    "])\n",
    "\n",
    "# Compute weighted sum for each player to get soft position membership\n",
    "soft_positions = np.dot(u.T, position_weights)\n",
    "\n",
    "# Normalize each row to sum to 1\n",
    "soft_positions = soft_positions / soft_positions.sum(axis=1, keepdims=True)\n",
    "\n",
    "# Convert to DataFrame\n",
    "position_labels = [\"PG\", \"SG\", \"SF\", \"PF\", \"C\"]\n",
    "membership_df = pd.DataFrame(soft_positions, columns=position_labels)\n",
    "\n",
    "# Add player stats and membership scores to final dataset\n",
    "df_final = pd.concat([player_stats, membership_df], axis=1)\n",
    "\n",
    "# Save the final dataset with soft classification\n",
    "final_file_path = \"ncaa_with_soft_positions.xlsx\"\n",
    "df_final.to_excel(final_file_path, index=False)\n",
    "\n",
    "print(\"Fuzzy C-Means clustering completed! Updated dataset saved with soft position memberships.\")\n"
   ]
  },
  {
   "cell_type": "code",
   "execution_count": 7,
   "id": "0425f9a3",
   "metadata": {},
   "outputs": [
    {
     "data": {
      "image/png": "[encoded data removed]",
      "text/plain": [
       "<Figure size 1000x600 with 1 Axes>"
      ]
     },
     "metadata": {},
     "output_type": "display_data"
    }
   ],
   "source": [
    "plt.figure(figsize=(10, 6))\n",
    "for pos in position_labels:\n",
    "    plt.hist(df_final[pos], bins=20, alpha=0.6, label=pos)\n",
    "plt.xlabel(\"Membership Score\")\n",
    "plt.ylabel(\"Number of Players\")\n",
    "plt.title(\"Distribution of Position Memberships\")\n",
    "plt.legend()\n",
    "plt.grid(True)\n",
    "plt.show()"
   ]
  }
 ],
 "metadata": {
  "kernelspec": {
   "display_name": "Python 3",
   "language": "python",
   "name": "python3"
  },
  "language_info": {
   "codemirror_mode": {
    "name": "ipython",
    "version": 3
   },
   "file_extension": ".py",
   "mimetype": "text/x-python",
   "name": "python",
   "nbconvert_exporter": "python",
   "pygments_lexer": "ipython3",
   "version": "3.11.0"
  }
 },
 "nbformat": 4,
 "nbformat_minor": 5
}
