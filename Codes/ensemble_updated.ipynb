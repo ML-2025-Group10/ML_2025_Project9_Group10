{
 "cells": [
  {
   "cell_type": "code",
   "execution_count": 1,
   "id": "3f29d727",
   "metadata": {},
   "outputs": [],
   "source": [
    "import pandas as pd\n",
    "import numpy as np\n",
    "from sklearn.model_selection import train_test_split\n",
    "from sklearn.ensemble import RandomForestClassifier, StackingClassifier\n",
    "from sklearn.linear_model import LogisticRegression\n",
    "from xgboost import XGBClassifier\n",
    "from sklearn.neural_network import MLPClassifier\n",
    "from sklearn.metrics import accuracy_score, roc_auc_score\n",
    "import shap"
   ]
  },
  {
   "cell_type": "code",
   "execution_count": 2,
   "id": "39eb9a4f",
   "metadata": {},
   "outputs": [],
   "source": [
    "raw_data = pd.read_excel('ncaa_data.xlsx')\n",
    "required_columns = {'Team Display Name', 'Date', 'Opponent', 'PTS', 'FGM', 'FGA', \n",
    "                    'FTM', 'FTA', 'OREB', 'DREB', 'REB', 'AST', 'STL', 'BLK', 'TO', 'Win', 'Game Score'}\n",
    "if not required_columns.issubset(raw_data.columns):\n",
    "    print(\"Error: The input data is missing one or more required columns.\")\n",
    "raw_data['Date'] = pd.to_datetime(raw_data['Date'])"
   ]
  },
  {
   "cell_type": "code",
   "execution_count": 3,
   "id": "97afa737",
   "metadata": {},
   "outputs": [],
   "source": [
    "team_stats = raw_data.groupby(['Team Display Name', 'Date', 'Opponent']).agg(\n",
    "    PTS=('PTS', 'sum'),\n",
    "    FGM=('FGM', 'sum'),\n",
    "    FGA=('FGA', 'sum'),\n",
    "    FTM=('FTM', 'sum'),\n",
    "    FTA=('FTA', 'sum'),\n",
    "    OREB=('OREB', 'sum'),\n",
    "    DREB=('DREB', 'sum'),\n",
    "    REB=('REB', 'sum'),\n",
    "    AST=('AST', 'sum'),\n",
    "    STL=('STL', 'sum'),\n",
    "    BLK=('BLK', 'sum'),\n",
    "    TO=('TO', 'sum'),\n",
    "    Win=('Win', 'first'),\n",
    "    Game_Score=('Game Score', 'sum')\n",
    ").reset_index()\n",
    "\n",
    "team_stats['Possessions'] = team_stats['FGA'] - team_stats['OREB'] + team_stats['TO'] + (0.4 * team_stats['FTA'])\n",
    "\n",
    "# Calculate offensive rating (points per 100 possessions)\n",
    "team_stats['ORtg'] = (team_stats['PTS'] / team_stats['Possessions']) * 100\n",
    "\n",
    "# Map opponent points to calculate defensive rating\n",
    "team_points = team_stats[['Team Display Name', 'Date', 'Opponent', 'PTS']].copy()\n",
    "team_points.rename(columns={'Team Display Name': 'Opponent', \n",
    "                           'Opponent': 'Team Display Name', \n",
    "                           'PTS': 'PTS_Allowed'}, inplace=True)\n",
    "\n",
    "# Merge opponent points to calculate defensive rating\n",
    "team_stats = team_stats.merge(team_points, on=['Team Display Name', 'Date', 'Opponent'], how='left')\n",
    "team_stats['DRtg'] = (team_stats['PTS_Allowed'] / team_stats['Possessions']) * 100\n"
   ]
  },
  {
   "cell_type": "code",
   "execution_count": 4,
   "id": "ff207f77",
   "metadata": {},
   "outputs": [],
   "source": [
    "new_features = ['ORtg', 'DRtg', 'Game_Score']\n",
    "for feature in new_features:\n",
    "    team_stats[f'Last_5_{feature}_avg'] = team_stats.groupby('Team Display Name')[feature]\\\n",
    "        .transform(lambda x: x.rolling(window=5, min_periods=1).mean())"
   ]
  },
  {
   "cell_type": "code",
   "execution_count": 5,
   "id": "1ef97695",
   "metadata": {},
   "outputs": [],
   "source": [
    "matchup_data = []\n",
    "for _, row in team_stats.iterrows():\n",
    "    team = row['Team Display Name']\n",
    "    opponent = row['Opponent']\n",
    "    date = row['Date']\n",
    "\n",
    "    # Get team's recent performance before this game\n",
    "    team_history = team_stats[(team_stats['Team Display Name'] == team) & \n",
    "                              (team_stats['Date'] < date)]\n",
    "    if team_history.empty:\n",
    "        continue\n",
    "    team_features = team_history.iloc[-1]\n",
    "\n",
    "    # Get opponent's recent performance before this game\n",
    "    opponent_history = team_stats[(team_stats['Team Display Name'] == opponent) & \n",
    "                                 (team_stats['Date'] < date)]\n",
    "    if opponent_history.empty:\n",
    "        continue\n",
    "    opponent_features = opponent_history.iloc[-1]\n",
    "\n",
    "    # Create matchup feature vector using advanced metrics\n",
    "    matchup_data.append({\n",
    "        'date': date,\n",
    "        'team_ortg_avg': team_features['Last_5_ORtg_avg'],\n",
    "        'opp_ortg_avg': opponent_features['Last_5_ORtg_avg'],\n",
    "        'team_drtg_avg': team_features['Last_5_DRtg_avg'],\n",
    "        'opp_drtg_avg': opponent_features['Last_5_DRtg_avg'],\n",
    "        'team_game_score_avg': team_features['Last_5_Game_Score_avg'],\n",
    "        'opp_game_score_avg': opponent_features['Last_5_Game_Score_avg'],\n",
    "        'outcome': row['Win']\n",
    "    })\n"
   ]
  },
  {
   "cell_type": "code",
   "execution_count": 6,
   "id": "dfbf99cf",
   "metadata": {},
   "outputs": [],
   "source": [
    "matchup_df = pd.DataFrame(matchup_data)\n",
    "X = matchup_df.drop(columns=['date', 'outcome'])\n",
    "y = matchup_df['outcome']\n",
    "\n",
    "split_index = int(len(X) * 0.8)\n",
    "X_train, X_test = X.iloc[:split_index], X.iloc[split_index:]\n",
    "y_train, y_test = y.iloc[:split_index], y.iloc[split_index:]"
   ]
  },
  {
   "cell_type": "code",
   "execution_count": 10,
   "id": "ddfc5a98",
   "metadata": {},
   "outputs": [],
   "source": [
    "base_models = [\n",
    "    ('logreg', LogisticRegression(max_iter=1000, C=0.1)),\n",
    "    ('rf', RandomForestClassifier(n_estimators=200, max_depth=5)),\n",
    "    ('xgb', XGBClassifier(learning_rate=0.1, max_depth=3))\n",
    "]\n",
    "\n",
    "meta_model = LogisticRegression(random_state=42)\n",
    "ensemble = StackingClassifier(estimators=base_models, final_estimator=meta_model, stack_method='predict_proba')"
   ]
  },
  {
   "cell_type": "code",
   "execution_count": 11,
   "id": "70e0d9e3",
   "metadata": {},
   "outputs": [
    {
     "name": "stdout",
     "output_type": "stream",
     "text": [
      "Ensemble Accuracy: 0.7142857142857143\n",
      "ROC AUC: 0.7779073912057288\n"
     ]
    }
   ],
   "source": [
    "ensemble.fit(X_train, y_train)\n",
    "\n",
    "y_pred = ensemble.predict(X_test)\n",
    "y_pred_proba = ensemble.predict_proba(X_test)[:, 1]\n",
    "accuracy = accuracy_score(y_test, y_pred)\n",
    "roc_auc = roc_auc_score(y_test, y_pred_proba)\n",
    "\n",
    "print(\"Ensemble Accuracy:\", accuracy)\n",
    "print(\"ROC AUC:\", roc_auc)"
   ]
  }
 ],
 "metadata": {
  "kernelspec": {
   "display_name": "Python 3",
   "language": "python",
   "name": "python3"
  },
  "language_info": {
   "codemirror_mode": {
    "name": "ipython",
    "version": 3
   },
   "file_extension": ".py",
   "mimetype": "text/x-python",
   "name": "python",
   "nbconvert_exporter": "python",
   "pygments_lexer": "ipython3",
   "version": "3.11.0"
  }
 },
 "nbformat": 4,
 "nbformat_minor": 5
}
