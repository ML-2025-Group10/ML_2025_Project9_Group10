{
 "cells": [
  {
   "cell_type": "code",
   "execution_count": 5,
   "metadata": {},
   "outputs": [],
   "source": [
    "import pandas as pd\n",
    "import numpy as np\n",
    "from sklearn.preprocessing import StandardScaler\n",
    "from sklearn.cluster import DBSCAN\n",
    "from sklearn.metrics import silhouette_score, calinski_harabasz_score, davies_bouldin_score"
   ]
  },
  {
   "cell_type": "code",
   "execution_count": 6,
   "metadata": {},
   "outputs": [
    {
     "data": {
      "text/html": [
       "<div>\n",
       "<style scoped>\n",
       "    .dataframe tbody tr th:only-of-type {\n",
       "        vertical-align: middle;\n",
       "    }\n",
       "\n",
       "    .dataframe tbody tr th {\n",
       "        vertical-align: top;\n",
       "    }\n",
       "\n",
       "    .dataframe thead th {\n",
       "        text-align: right;\n",
       "    }\n",
       "</style>\n",
       "<table border=\"1\" class=\"dataframe\">\n",
       "  <thead>\n",
       "    <tr style=\"text-align: right;\">\n",
       "      <th></th>\n",
       "      <th>PTS</th>\n",
       "      <th>MIN</th>\n",
       "      <th>FTM</th>\n",
       "      <th>PA</th>\n",
       "      <th>FGA</th>\n",
       "      <th>FGM</th>\n",
       "      <th>PM</th>\n",
       "      <th>FTA</th>\n",
       "      <th>OREB</th>\n",
       "      <th>DREB</th>\n",
       "      <th>REB</th>\n",
       "      <th>AST</th>\n",
       "      <th>BLK</th>\n",
       "      <th>STL</th>\n",
       "      <th>TO</th>\n",
       "      <th>PF</th>\n",
       "      <th>Game Score</th>\n",
       "    </tr>\n",
       "  </thead>\n",
       "  <tbody>\n",
       "    <tr>\n",
       "      <th>0</th>\n",
       "      <td>5.000000</td>\n",
       "      <td>6.000000</td>\n",
       "      <td>0.000000</td>\n",
       "      <td>2.000000</td>\n",
       "      <td>3.000000</td>\n",
       "      <td>2.000000</td>\n",
       "      <td>1.000000</td>\n",
       "      <td>0.000000</td>\n",
       "      <td>0.000000</td>\n",
       "      <td>0.000000</td>\n",
       "      <td>0.000000</td>\n",
       "      <td>0.000000</td>\n",
       "      <td>0.000000</td>\n",
       "      <td>0.000000</td>\n",
       "      <td>2.000000</td>\n",
       "      <td>2.000000</td>\n",
       "      <td>0.900000</td>\n",
       "    </tr>\n",
       "    <tr>\n",
       "      <th>1</th>\n",
       "      <td>0.000000</td>\n",
       "      <td>3.000000</td>\n",
       "      <td>0.000000</td>\n",
       "      <td>1.000000</td>\n",
       "      <td>1.000000</td>\n",
       "      <td>0.000000</td>\n",
       "      <td>0.000000</td>\n",
       "      <td>0.000000</td>\n",
       "      <td>0.000000</td>\n",
       "      <td>0.000000</td>\n",
       "      <td>0.000000</td>\n",
       "      <td>0.000000</td>\n",
       "      <td>0.000000</td>\n",
       "      <td>1.000000</td>\n",
       "      <td>1.000000</td>\n",
       "      <td>0.000000</td>\n",
       "      <td>-0.700000</td>\n",
       "    </tr>\n",
       "    <tr>\n",
       "      <th>2</th>\n",
       "      <td>0.000000</td>\n",
       "      <td>12.000000</td>\n",
       "      <td>0.000000</td>\n",
       "      <td>3.000000</td>\n",
       "      <td>4.000000</td>\n",
       "      <td>0.000000</td>\n",
       "      <td>0.000000</td>\n",
       "      <td>2.000000</td>\n",
       "      <td>1.000000</td>\n",
       "      <td>0.000000</td>\n",
       "      <td>1.000000</td>\n",
       "      <td>2.000000</td>\n",
       "      <td>0.000000</td>\n",
       "      <td>1.000000</td>\n",
       "      <td>4.000000</td>\n",
       "      <td>1.000000</td>\n",
       "      <td>-4.900000</td>\n",
       "    </tr>\n",
       "    <tr>\n",
       "      <th>3</th>\n",
       "      <td>4.000000</td>\n",
       "      <td>5.000000</td>\n",
       "      <td>0.000000</td>\n",
       "      <td>1.000000</td>\n",
       "      <td>3.000000</td>\n",
       "      <td>2.000000</td>\n",
       "      <td>0.000000</td>\n",
       "      <td>0.000000</td>\n",
       "      <td>3.000000</td>\n",
       "      <td>0.000000</td>\n",
       "      <td>3.000000</td>\n",
       "      <td>2.000000</td>\n",
       "      <td>0.000000</td>\n",
       "      <td>0.000000</td>\n",
       "      <td>0.000000</td>\n",
       "      <td>1.000000</td>\n",
       "      <td>5.800000</td>\n",
       "    </tr>\n",
       "    <tr>\n",
       "      <th>4</th>\n",
       "      <td>6.639344</td>\n",
       "      <td>24.983607</td>\n",
       "      <td>1.393443</td>\n",
       "      <td>0.262295</td>\n",
       "      <td>5.721311</td>\n",
       "      <td>2.606557</td>\n",
       "      <td>0.032787</td>\n",
       "      <td>2.344262</td>\n",
       "      <td>2.688525</td>\n",
       "      <td>4.852459</td>\n",
       "      <td>7.540984</td>\n",
       "      <td>0.819672</td>\n",
       "      <td>0.262295</td>\n",
       "      <td>0.754098</td>\n",
       "      <td>2.508197</td>\n",
       "      <td>2.147541</td>\n",
       "      <td>4.778689</td>\n",
       "    </tr>\n",
       "  </tbody>\n",
       "</table>\n",
       "</div>"
      ],
      "text/plain": [
       "        PTS        MIN       FTM        PA       FGA       FGM        PM  \\\n",
       "0  5.000000   6.000000  0.000000  2.000000  3.000000  2.000000  1.000000   \n",
       "1  0.000000   3.000000  0.000000  1.000000  1.000000  0.000000  0.000000   \n",
       "2  0.000000  12.000000  0.000000  3.000000  4.000000  0.000000  0.000000   \n",
       "3  4.000000   5.000000  0.000000  1.000000  3.000000  2.000000  0.000000   \n",
       "4  6.639344  24.983607  1.393443  0.262295  5.721311  2.606557  0.032787   \n",
       "\n",
       "        FTA      OREB      DREB       REB       AST       BLK       STL  \\\n",
       "0  0.000000  0.000000  0.000000  0.000000  0.000000  0.000000  0.000000   \n",
       "1  0.000000  0.000000  0.000000  0.000000  0.000000  0.000000  1.000000   \n",
       "2  2.000000  1.000000  0.000000  1.000000  2.000000  0.000000  1.000000   \n",
       "3  0.000000  3.000000  0.000000  3.000000  2.000000  0.000000  0.000000   \n",
       "4  2.344262  2.688525  4.852459  7.540984  0.819672  0.262295  0.754098   \n",
       "\n",
       "         TO        PF  Game Score  \n",
       "0  2.000000  2.000000    0.900000  \n",
       "1  1.000000  0.000000   -0.700000  \n",
       "2  4.000000  1.000000   -4.900000  \n",
       "3  0.000000  1.000000    5.800000  \n",
       "4  2.508197  2.147541    4.778689  "
      ]
     },
     "execution_count": 6,
     "metadata": {},
     "output_type": "execute_result"
    }
   ],
   "source": [
    "df = pd.read_excel(\"athletewise data.xlsx\").drop('Athlete', axis=1)\n",
    "df.head()"
   ]
  },
  {
   "cell_type": "code",
   "execution_count": 7,
   "metadata": {},
   "outputs": [
    {
     "name": "stdout",
     "output_type": "stream",
     "text": [
      "[[-0.15755696 -1.23199354 -0.75357133 ...  0.47058423  0.51541143\n",
      "  -0.6326    ]\n",
      " [-1.12474062 -1.54519568 -0.75357133 ... -0.3288583  -1.35276342\n",
      "  -0.95471039]\n",
      " [-1.12474062 -0.60558924 -0.75357133 ...  2.06946931 -0.418676\n",
      "  -1.80025018]\n",
      " ...\n",
      " [-0.55110066 -0.64878954 -0.41185117 ... -0.35642529  0.51541143\n",
      "  -0.58400576]\n",
      " [-0.15755696 -0.34458745  1.53332515 ... -0.3288583   0.98245514\n",
      "  -0.04877491]\n",
      " [ 1.12396138  1.13007266  0.10401485 ...  1.36995709  0.74893328\n",
      "   1.07861147]]\n"
     ]
    }
   ],
   "source": [
    "df_numeric = df.select_dtypes(include=[float, int])\n",
    "scaler = StandardScaler()\n",
    "X_scaled = scaler.fit_transform(df_numeric)\n",
    "print(X_scaled)"
   ]
  },
  {
   "cell_type": "code",
   "execution_count": 8,
   "metadata": {},
   "outputs": [],
   "source": [
    "eps_values = np.arange(0.1, 2.0, 0.1)\n",
    "results = []"
   ]
  },
  {
   "cell_type": "code",
   "execution_count": 9,
   "metadata": {},
   "outputs": [],
   "source": [
    "for eps in eps_values:\n",
    "    dbscan = DBSCAN(eps=eps)\n",
    "    labels = dbscan.fit_predict(X_scaled)\n",
    "    \n",
    "    n_clusters = len(set(labels)) - (1 if -1 in labels else 0)\n",
    "    n_noise = list(labels).count(-1)\n",
    "    \n",
    "    if n_clusters > 1:\n",
    "        silhouette_avg = silhouette_score(X_scaled, labels)\n",
    "        calinski_harabasz_avg = calinski_harabasz_score(X_scaled, labels)\n",
    "        davies_bouldin_avg = davies_bouldin_score(X_scaled, labels)\n",
    "    else:\n",
    "        silhouette_avg = calinski_harabasz_avg = davies_bouldin_avg = None\n",
    "    \n",
    "    results.append({\n",
    "        'eps': eps,\n",
    "        'n_clusters': n_clusters,\n",
    "        'n_noise': n_noise,\n",
    "        'silhouette_score': silhouette_avg,\n",
    "        'calinski_harabasz_score': calinski_harabasz_avg,\n",
    "        'davies_bouldin_score': davies_bouldin_avg\n",
    "    })"
   ]
  },
  {
   "cell_type": "code",
   "execution_count": 10,
   "metadata": {},
   "outputs": [],
   "source": [
    "results_df = pd.DataFrame(results)\n",
    "optimal_eps = results_df.loc[results_df['silhouette_score'].idxmax()]['eps']"
   ]
  },
  {
   "cell_type": "code",
   "execution_count": 11,
   "metadata": {},
   "outputs": [
    {
     "data": {
      "text/plain": [
       "(    eps  n_clusters  n_noise  silhouette_score  calinski_harabasz_score  \\\n",
       " 0   0.1           4     2950         -0.116138                14.342729   \n",
       " 1   0.2           6     2915         -0.111105                16.045412   \n",
       " 2   0.3           5     2873         -0.095989                28.637207   \n",
       " 3   0.4           7     2804         -0.155599                30.791636   \n",
       " 4   0.5           1     2734               NaN                      NaN   \n",
       " 5   0.6           2     2655         -0.125616               178.430323   \n",
       " 6   0.7           2     2523         -0.099837               233.860620   \n",
       " 7   0.8           4     2391         -0.196907               142.665108   \n",
       " 8   0.9           3     2245         -0.177061               219.780155   \n",
       " 9   1.0           3     2125         -0.134837               247.877143   \n",
       " 10  1.1           5     1990         -0.140013               159.595398   \n",
       " 11  1.2           5     1815         -0.200847               163.886982   \n",
       " 12  1.3           1     1689               NaN                      NaN   \n",
       " 13  1.4           3     1534         -0.003417               273.433684   \n",
       " 14  1.5           1     1393               NaN                      NaN   \n",
       " 15  1.6           1     1267               NaN                      NaN   \n",
       " 16  1.7           1     1145               NaN                      NaN   \n",
       " 17  1.8           1     1000               NaN                      NaN   \n",
       " 18  1.9           1      899               NaN                      NaN   \n",
       " \n",
       "     davies_bouldin_score  \n",
       " 0               0.880633  \n",
       " 1               0.895764  \n",
       " 2               0.912908  \n",
       " 3               1.059854  \n",
       " 4                    NaN  \n",
       " 5               1.179805  \n",
       " 6               1.299514  \n",
       " 7               1.899682  \n",
       " 8               2.015966  \n",
       " 9               2.398168  \n",
       " 10              3.607976  \n",
       " 11              3.186712  \n",
       " 12                   NaN  \n",
       " 13              2.262942  \n",
       " 14                   NaN  \n",
       " 15                   NaN  \n",
       " 16                   NaN  \n",
       " 17                   NaN  \n",
       " 18                   NaN  ,\n",
       " 1.4000000000000001)"
      ]
     },
     "execution_count": 11,
     "metadata": {},
     "output_type": "execute_result"
    }
   ],
   "source": [
    "results_df, optimal_eps"
   ]
  },
  {
   "cell_type": "code",
   "execution_count": 12,
   "metadata": {},
   "outputs": [],
   "source": [
    "dbscan = DBSCAN(eps=optimal_eps)\n",
    "dbscan.fit(X_scaled)\n",
    "labels = dbscan.labels_"
   ]
  },
  {
   "cell_type": "code",
   "execution_count": 13,
   "metadata": {},
   "outputs": [
    {
     "name": "stdout",
     "output_type": "stream",
     "text": [
      "Estimated number of clusters: 3\n",
      "Estimated number of noise points: 1534\n"
     ]
    }
   ],
   "source": [
    "n_clusters_ = len(set(labels)) - (1 if -1 in labels else 0)\n",
    "n_noise_ = list(labels).count(-1)\n",
    "\n",
    "print(\"Estimated number of clusters: %d\" % n_clusters_)\n",
    "print(\"Estimated number of noise points: %d\" % n_noise_)"
   ]
  },
  {
   "cell_type": "code",
   "execution_count": 14,
   "metadata": {},
   "outputs": [
    {
     "name": "stdout",
     "output_type": "stream",
     "text": [
      "Silhouette Score: -0.0034165224006341794\n",
      "Calinski-Harabasz Index: 273.4336840302565\n",
      "Davies-Bouldin Index: 2.2629418811567366\n"
     ]
    }
   ],
   "source": [
    "silhouette_avg = silhouette_score(X_scaled, labels)\n",
    "print('Silhouette Score:', silhouette_avg)\n",
    "\n",
    "calinski_harabasz_avg = calinski_harabasz_score(X_scaled, labels)\n",
    "print('Calinski-Harabasz Index:', calinski_harabasz_avg)\n",
    "\n",
    "davies_bouldin_avg = davies_bouldin_score(X_scaled, labels)\n",
    "print('Davies-Bouldin Index:', davies_bouldin_avg)\n"
   ]
  }
 ],
 "metadata": {
  "kernelspec": {
   "display_name": "Python 3",
   "language": "python",
   "name": "python3"
  },
  "language_info": {
   "codemirror_mode": {
    "name": "ipython",
    "version": 3
   },
   "file_extension": ".py",
   "mimetype": "text/x-python",
   "name": "python",
   "nbconvert_exporter": "python",
   "pygments_lexer": "ipython3",
   "version": "3.11.0"
  }
 },
 "nbformat": 4,
 "nbformat_minor": 2
}
